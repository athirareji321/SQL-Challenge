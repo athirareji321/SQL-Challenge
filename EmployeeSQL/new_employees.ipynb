{
 "cells": [
  {
   "cell_type": "code",
   "execution_count": 5,
   "id": "b56bbf24-3c55-49f4-a3d4-c73f021197de",
   "metadata": {
    "tags": []
   },
   "outputs": [],
   "source": [
    "import pandas as pd\n",
    "import os\n",
    "\n",
    "# Define path to the original employee csv that needs to be edited\n",
    "csv_path = 'data/employees.csv'\n",
    "\n",
    "# Read the CSV file\n",
    "df = pd.read_csv(csv_path)\n",
    "\n",
    "# Convert the date column to the desired format\n",
    "df['hire_date'] = pd.to_datetime(df['hire_date'], errors='coerce').dt.strftime('%Y/%m/%d')\n",
    "df['birth_date'] = pd.to_datetime(df['birth_date'], errors='coerce').dt.strftime('%Y/%m/%d')\n",
    "\n",
    "# Define the path to save the new file\n",
    "output_csv_path = os.path.join('data', 'new_employees.csv')\n",
    "\n",
    "# Save the new file\n",
    "df.to_csv(output_csv_path, index=False)"
   ]
  },
  {
   "cell_type": "code",
   "execution_count": null,
   "id": "3ab66f52-f71a-4025-81dc-779f5282ddf7",
   "metadata": {},
   "outputs": [],
   "source": []
  }
 ],
 "metadata": {
  "kernelspec": {
   "display_name": "PandasData",
   "language": "python",
   "name": "pandasdata"
  },
  "language_info": {
   "codemirror_mode": {
    "name": "ipython",
    "version": 3
   },
   "file_extension": ".py",
   "mimetype": "text/x-python",
   "name": "python",
   "nbconvert_exporter": "python",
   "pygments_lexer": "ipython3",
   "version": "3.11.3"
  }
 },
 "nbformat": 4,
 "nbformat_minor": 5
}
